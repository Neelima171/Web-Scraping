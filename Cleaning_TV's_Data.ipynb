{
 "cells": [
  {
   "cell_type": "code",
   "execution_count": 1,
   "metadata": {},
   "outputs": [],
   "source": [
    "import pandas as pd\n",
    "import numpy as np"
   ]
  },
  {
   "cell_type": "code",
   "execution_count": 2,
   "metadata": {},
   "outputs": [],
   "source": [
    "df=pd.read_csv('./tv_df.csv')"
   ]
  },
  {
   "cell_type": "code",
   "execution_count": 3,
   "metadata": {
    "scrolled": true
   },
   "outputs": [
    {
     "data": {
      "text/html": [
       "<div>\n",
       "<style scoped>\n",
       "    .dataframe tbody tr th:only-of-type {\n",
       "        vertical-align: middle;\n",
       "    }\n",
       "\n",
       "    .dataframe tbody tr th {\n",
       "        vertical-align: top;\n",
       "    }\n",
       "\n",
       "    .dataframe thead th {\n",
       "        text-align: right;\n",
       "    }\n",
       "</style>\n",
       "<table border=\"1\" class=\"dataframe\">\n",
       "  <thead>\n",
       "    <tr style=\"text-align: right;\">\n",
       "      <th></th>\n",
       "      <th>TV_Brand</th>\n",
       "      <th>TV_Name</th>\n",
       "      <th>Star_Rating</th>\n",
       "      <th>Warranty</th>\n",
       "      <th>ScreenSize_cm</th>\n",
       "      <th>ScreenSize_inch</th>\n",
       "      <th>Sound_Output</th>\n",
       "      <th>Rating</th>\n",
       "      <th>Reviews</th>\n",
       "      <th>Price</th>\n",
       "      <th>Supported_apps</th>\n",
       "      <th>Resolution</th>\n",
       "    </tr>\n",
       "  </thead>\n",
       "  <tbody>\n",
       "    <tr>\n",
       "      <th>0</th>\n",
       "      <td>SAMSUNG</td>\n",
       "      <td>163 cm (65 inch) Ultra HD (4K) LED Smart TV</td>\n",
       "      <td>4.4</td>\n",
       "      <td>1</td>\n",
       "      <td>163.0</td>\n",
       "      <td>65</td>\n",
       "      <td>20</td>\n",
       "      <td>24</td>\n",
       "      <td>2</td>\n",
       "      <td>99999</td>\n",
       "      <td>Netflix|Disney+Hotstar|Youtube</td>\n",
       "      <td>3840 x 2160 Pixels</td>\n",
       "    </tr>\n",
       "    <tr>\n",
       "      <th>1</th>\n",
       "      <td>SAMSUNG</td>\n",
       "      <td>The Frame 163 cm (65 inch) QLED Ultra HD (4K)...</td>\n",
       "      <td>4.5</td>\n",
       "      <td>1</td>\n",
       "      <td>163.0</td>\n",
       "      <td>65</td>\n",
       "      <td>40</td>\n",
       "      <td>3,209</td>\n",
       "      <td>511</td>\n",
       "      <td>124999</td>\n",
       "      <td>Netflix|Prime Video|Apple TV|Disney+Hotstar|Yo...</td>\n",
       "      <td>3840 x 2160 Pixels</td>\n",
       "    </tr>\n",
       "  </tbody>\n",
       "</table>\n",
       "</div>"
      ],
      "text/plain": [
       "  TV_Brand                                            TV_Name  Star_Rating  \\\n",
       "0  SAMSUNG        163 cm (65 inch) Ultra HD (4K) LED Smart TV          4.4   \n",
       "1  SAMSUNG   The Frame 163 cm (65 inch) QLED Ultra HD (4K)...          4.5   \n",
       "\n",
       "   Warranty  ScreenSize_cm  ScreenSize_inch  Sound_Output Rating Reviews  \\\n",
       "0         1          163.0               65            20     24       2   \n",
       "1         1          163.0               65            40  3,209     511   \n",
       "\n",
       "    Price                                     Supported_apps  \\\n",
       "0   99999                     Netflix|Disney+Hotstar|Youtube   \n",
       "1  124999  Netflix|Prime Video|Apple TV|Disney+Hotstar|Yo...   \n",
       "\n",
       "           Resolution  \n",
       "0  3840 x 2160 Pixels  \n",
       "1  3840 x 2160 Pixels  "
      ]
     },
     "execution_count": 3,
     "metadata": {},
     "output_type": "execute_result"
    }
   ],
   "source": [
    "df.head(2)"
   ]
  },
  {
   "cell_type": "code",
   "execution_count": 4,
   "metadata": {},
   "outputs": [
    {
     "name": "stdout",
     "output_type": "stream",
     "text": [
      "<class 'pandas.core.frame.DataFrame'>\n",
      "RangeIndex: 480 entries, 0 to 479\n",
      "Data columns (total 12 columns):\n",
      " #   Column           Non-Null Count  Dtype  \n",
      "---  ------           --------------  -----  \n",
      " 0   TV_Brand         480 non-null    object \n",
      " 1   TV_Name          480 non-null    object \n",
      " 2   Star_Rating      450 non-null    float64\n",
      " 3   Warranty         480 non-null    int64  \n",
      " 4   ScreenSize_cm    460 non-null    float64\n",
      " 5   ScreenSize_inch  480 non-null    int64  \n",
      " 6   Sound_Output     480 non-null    int64  \n",
      " 7   Rating           440 non-null    object \n",
      " 8   Reviews          440 non-null    object \n",
      " 9   Price            480 non-null    int64  \n",
      " 10  Supported_apps   480 non-null    object \n",
      " 11  Resolution       480 non-null    object \n",
      "dtypes: float64(2), int64(4), object(6)\n",
      "memory usage: 45.1+ KB\n"
     ]
    }
   ],
   "source": [
    "df.info()"
   ]
  },
  {
   "cell_type": "markdown",
   "metadata": {},
   "source": [
    "#### OBSERVATIONS: Rating and Reviews are containing NaN values so we need to be convert them into float values"
   ]
  },
  {
   "cell_type": "code",
   "execution_count": 5,
   "metadata": {},
   "outputs": [],
   "source": [
    "df['Rating']=df['Rating'].str.replace(',','').astype(float)\n",
    "df['Reviews']=df['Reviews'].str.replace(',','').astype(float)"
   ]
  },
  {
   "cell_type": "code",
   "execution_count": 6,
   "metadata": {},
   "outputs": [
    {
     "data": {
      "text/html": [
       "<div>\n",
       "<style scoped>\n",
       "    .dataframe tbody tr th:only-of-type {\n",
       "        vertical-align: middle;\n",
       "    }\n",
       "\n",
       "    .dataframe tbody tr th {\n",
       "        vertical-align: top;\n",
       "    }\n",
       "\n",
       "    .dataframe thead th {\n",
       "        text-align: right;\n",
       "    }\n",
       "</style>\n",
       "<table border=\"1\" class=\"dataframe\">\n",
       "  <thead>\n",
       "    <tr style=\"text-align: right;\">\n",
       "      <th></th>\n",
       "      <th>TV_Brand</th>\n",
       "      <th>TV_Name</th>\n",
       "      <th>Star_Rating</th>\n",
       "      <th>Warranty</th>\n",
       "      <th>ScreenSize_cm</th>\n",
       "      <th>ScreenSize_inch</th>\n",
       "      <th>Sound_Output</th>\n",
       "      <th>Rating</th>\n",
       "      <th>Reviews</th>\n",
       "      <th>Price</th>\n",
       "      <th>Supported_apps</th>\n",
       "      <th>Resolution</th>\n",
       "    </tr>\n",
       "  </thead>\n",
       "  <tbody>\n",
       "    <tr>\n",
       "      <th>0</th>\n",
       "      <td>SAMSUNG</td>\n",
       "      <td>163 cm (65 inch) Ultra HD (4K) LED Smart TV</td>\n",
       "      <td>4.4</td>\n",
       "      <td>1</td>\n",
       "      <td>163.0</td>\n",
       "      <td>65</td>\n",
       "      <td>20</td>\n",
       "      <td>24.0</td>\n",
       "      <td>2.0</td>\n",
       "      <td>99999</td>\n",
       "      <td>Netflix|Disney+Hotstar|Youtube</td>\n",
       "      <td>3840 x 2160 Pixels</td>\n",
       "    </tr>\n",
       "    <tr>\n",
       "      <th>1</th>\n",
       "      <td>SAMSUNG</td>\n",
       "      <td>The Frame 163 cm (65 inch) QLED Ultra HD (4K)...</td>\n",
       "      <td>4.5</td>\n",
       "      <td>1</td>\n",
       "      <td>163.0</td>\n",
       "      <td>65</td>\n",
       "      <td>40</td>\n",
       "      <td>3209.0</td>\n",
       "      <td>511.0</td>\n",
       "      <td>124999</td>\n",
       "      <td>Netflix|Prime Video|Apple TV|Disney+Hotstar|Yo...</td>\n",
       "      <td>3840 x 2160 Pixels</td>\n",
       "    </tr>\n",
       "  </tbody>\n",
       "</table>\n",
       "</div>"
      ],
      "text/plain": [
       "  TV_Brand                                            TV_Name  Star_Rating  \\\n",
       "0  SAMSUNG        163 cm (65 inch) Ultra HD (4K) LED Smart TV          4.4   \n",
       "1  SAMSUNG   The Frame 163 cm (65 inch) QLED Ultra HD (4K)...          4.5   \n",
       "\n",
       "   Warranty  ScreenSize_cm  ScreenSize_inch  Sound_Output  Rating  Reviews  \\\n",
       "0         1          163.0               65            20    24.0      2.0   \n",
       "1         1          163.0               65            40  3209.0    511.0   \n",
       "\n",
       "    Price                                     Supported_apps  \\\n",
       "0   99999                     Netflix|Disney+Hotstar|Youtube   \n",
       "1  124999  Netflix|Prime Video|Apple TV|Disney+Hotstar|Yo...   \n",
       "\n",
       "           Resolution  \n",
       "0  3840 x 2160 Pixels  \n",
       "1  3840 x 2160 Pixels  "
      ]
     },
     "execution_count": 6,
     "metadata": {},
     "output_type": "execute_result"
    }
   ],
   "source": [
    "df.head(2)"
   ]
  },
  {
   "cell_type": "markdown",
   "metadata": {},
   "source": [
    "#### Checking for null values:"
   ]
  },
  {
   "cell_type": "code",
   "execution_count": 7,
   "metadata": {},
   "outputs": [
    {
     "data": {
      "text/html": [
       "<div>\n",
       "<style scoped>\n",
       "    .dataframe tbody tr th:only-of-type {\n",
       "        vertical-align: middle;\n",
       "    }\n",
       "\n",
       "    .dataframe tbody tr th {\n",
       "        vertical-align: top;\n",
       "    }\n",
       "\n",
       "    .dataframe thead th {\n",
       "        text-align: right;\n",
       "    }\n",
       "</style>\n",
       "<table border=\"1\" class=\"dataframe\">\n",
       "  <thead>\n",
       "    <tr style=\"text-align: right;\">\n",
       "      <th></th>\n",
       "      <th>TV_Brand</th>\n",
       "      <th>TV_Name</th>\n",
       "      <th>Star_Rating</th>\n",
       "      <th>Warranty</th>\n",
       "      <th>ScreenSize_cm</th>\n",
       "      <th>ScreenSize_inch</th>\n",
       "      <th>Sound_Output</th>\n",
       "      <th>Rating</th>\n",
       "      <th>Reviews</th>\n",
       "      <th>Price</th>\n",
       "      <th>Supported_apps</th>\n",
       "      <th>Resolution</th>\n",
       "    </tr>\n",
       "  </thead>\n",
       "  <tbody>\n",
       "    <tr>\n",
       "      <th>0</th>\n",
       "      <td>False</td>\n",
       "      <td>False</td>\n",
       "      <td>False</td>\n",
       "      <td>False</td>\n",
       "      <td>False</td>\n",
       "      <td>False</td>\n",
       "      <td>False</td>\n",
       "      <td>False</td>\n",
       "      <td>False</td>\n",
       "      <td>False</td>\n",
       "      <td>False</td>\n",
       "      <td>False</td>\n",
       "    </tr>\n",
       "    <tr>\n",
       "      <th>1</th>\n",
       "      <td>False</td>\n",
       "      <td>False</td>\n",
       "      <td>False</td>\n",
       "      <td>False</td>\n",
       "      <td>False</td>\n",
       "      <td>False</td>\n",
       "      <td>False</td>\n",
       "      <td>False</td>\n",
       "      <td>False</td>\n",
       "      <td>False</td>\n",
       "      <td>False</td>\n",
       "      <td>False</td>\n",
       "    </tr>\n",
       "    <tr>\n",
       "      <th>2</th>\n",
       "      <td>False</td>\n",
       "      <td>False</td>\n",
       "      <td>False</td>\n",
       "      <td>False</td>\n",
       "      <td>False</td>\n",
       "      <td>False</td>\n",
       "      <td>False</td>\n",
       "      <td>False</td>\n",
       "      <td>False</td>\n",
       "      <td>False</td>\n",
       "      <td>False</td>\n",
       "      <td>False</td>\n",
       "    </tr>\n",
       "    <tr>\n",
       "      <th>3</th>\n",
       "      <td>False</td>\n",
       "      <td>False</td>\n",
       "      <td>False</td>\n",
       "      <td>False</td>\n",
       "      <td>False</td>\n",
       "      <td>False</td>\n",
       "      <td>False</td>\n",
       "      <td>False</td>\n",
       "      <td>False</td>\n",
       "      <td>False</td>\n",
       "      <td>False</td>\n",
       "      <td>False</td>\n",
       "    </tr>\n",
       "    <tr>\n",
       "      <th>4</th>\n",
       "      <td>False</td>\n",
       "      <td>False</td>\n",
       "      <td>False</td>\n",
       "      <td>False</td>\n",
       "      <td>False</td>\n",
       "      <td>False</td>\n",
       "      <td>False</td>\n",
       "      <td>False</td>\n",
       "      <td>False</td>\n",
       "      <td>False</td>\n",
       "      <td>False</td>\n",
       "      <td>False</td>\n",
       "    </tr>\n",
       "    <tr>\n",
       "      <th>...</th>\n",
       "      <td>...</td>\n",
       "      <td>...</td>\n",
       "      <td>...</td>\n",
       "      <td>...</td>\n",
       "      <td>...</td>\n",
       "      <td>...</td>\n",
       "      <td>...</td>\n",
       "      <td>...</td>\n",
       "      <td>...</td>\n",
       "      <td>...</td>\n",
       "      <td>...</td>\n",
       "      <td>...</td>\n",
       "    </tr>\n",
       "    <tr>\n",
       "      <th>475</th>\n",
       "      <td>False</td>\n",
       "      <td>False</td>\n",
       "      <td>False</td>\n",
       "      <td>False</td>\n",
       "      <td>False</td>\n",
       "      <td>False</td>\n",
       "      <td>False</td>\n",
       "      <td>False</td>\n",
       "      <td>False</td>\n",
       "      <td>False</td>\n",
       "      <td>False</td>\n",
       "      <td>False</td>\n",
       "    </tr>\n",
       "    <tr>\n",
       "      <th>476</th>\n",
       "      <td>False</td>\n",
       "      <td>False</td>\n",
       "      <td>False</td>\n",
       "      <td>False</td>\n",
       "      <td>False</td>\n",
       "      <td>False</td>\n",
       "      <td>False</td>\n",
       "      <td>False</td>\n",
       "      <td>False</td>\n",
       "      <td>False</td>\n",
       "      <td>False</td>\n",
       "      <td>False</td>\n",
       "    </tr>\n",
       "    <tr>\n",
       "      <th>477</th>\n",
       "      <td>False</td>\n",
       "      <td>False</td>\n",
       "      <td>False</td>\n",
       "      <td>False</td>\n",
       "      <td>False</td>\n",
       "      <td>False</td>\n",
       "      <td>False</td>\n",
       "      <td>False</td>\n",
       "      <td>False</td>\n",
       "      <td>False</td>\n",
       "      <td>False</td>\n",
       "      <td>False</td>\n",
       "    </tr>\n",
       "    <tr>\n",
       "      <th>478</th>\n",
       "      <td>False</td>\n",
       "      <td>False</td>\n",
       "      <td>False</td>\n",
       "      <td>False</td>\n",
       "      <td>False</td>\n",
       "      <td>False</td>\n",
       "      <td>False</td>\n",
       "      <td>False</td>\n",
       "      <td>False</td>\n",
       "      <td>False</td>\n",
       "      <td>False</td>\n",
       "      <td>False</td>\n",
       "    </tr>\n",
       "    <tr>\n",
       "      <th>479</th>\n",
       "      <td>False</td>\n",
       "      <td>False</td>\n",
       "      <td>True</td>\n",
       "      <td>False</td>\n",
       "      <td>False</td>\n",
       "      <td>False</td>\n",
       "      <td>False</td>\n",
       "      <td>True</td>\n",
       "      <td>True</td>\n",
       "      <td>False</td>\n",
       "      <td>False</td>\n",
       "      <td>False</td>\n",
       "    </tr>\n",
       "  </tbody>\n",
       "</table>\n",
       "<p>480 rows × 12 columns</p>\n",
       "</div>"
      ],
      "text/plain": [
       "     TV_Brand  TV_Name  Star_Rating  Warranty  ScreenSize_cm  ScreenSize_inch  \\\n",
       "0       False    False        False     False          False            False   \n",
       "1       False    False        False     False          False            False   \n",
       "2       False    False        False     False          False            False   \n",
       "3       False    False        False     False          False            False   \n",
       "4       False    False        False     False          False            False   \n",
       "..        ...      ...          ...       ...            ...              ...   \n",
       "475     False    False        False     False          False            False   \n",
       "476     False    False        False     False          False            False   \n",
       "477     False    False        False     False          False            False   \n",
       "478     False    False        False     False          False            False   \n",
       "479     False    False         True     False          False            False   \n",
       "\n",
       "     Sound_Output  Rating  Reviews  Price  Supported_apps  Resolution  \n",
       "0           False   False    False  False           False       False  \n",
       "1           False   False    False  False           False       False  \n",
       "2           False   False    False  False           False       False  \n",
       "3           False   False    False  False           False       False  \n",
       "4           False   False    False  False           False       False  \n",
       "..            ...     ...      ...    ...             ...         ...  \n",
       "475         False   False    False  False           False       False  \n",
       "476         False   False    False  False           False       False  \n",
       "477         False   False    False  False           False       False  \n",
       "478         False   False    False  False           False       False  \n",
       "479         False    True     True  False           False       False  \n",
       "\n",
       "[480 rows x 12 columns]"
      ]
     },
     "execution_count": 7,
     "metadata": {},
     "output_type": "execute_result"
    }
   ],
   "source": [
    "df.isnull()"
   ]
  },
  {
   "cell_type": "code",
   "execution_count": 8,
   "metadata": {},
   "outputs": [
    {
     "data": {
      "text/plain": [
       "TV_Brand            0\n",
       "TV_Name             0\n",
       "Star_Rating        30\n",
       "Warranty            0\n",
       "ScreenSize_cm      20\n",
       "ScreenSize_inch     0\n",
       "Sound_Output        0\n",
       "Rating             40\n",
       "Reviews            40\n",
       "Price               0\n",
       "Supported_apps      0\n",
       "Resolution          0\n",
       "dtype: int64"
      ]
     },
     "execution_count": 8,
     "metadata": {},
     "output_type": "execute_result"
    }
   ],
   "source": [
    "df.isnull().sum()"
   ]
  },
  {
   "cell_type": "markdown",
   "metadata": {},
   "source": [
    "#### OBSERVATIONS: \n",
    "#### We got 30 null values in Star_Ratings, 20 in Screen_Size_cm and 40 in both Rating and Reviews columns."
   ]
  },
  {
   "cell_type": "code",
   "execution_count": 9,
   "metadata": {},
   "outputs": [
    {
     "data": {
      "text/plain": [
       "TV_Brand           0.000000\n",
       "TV_Name            0.000000\n",
       "Star_Rating        6.250000\n",
       "Warranty           0.000000\n",
       "ScreenSize_cm      4.166667\n",
       "ScreenSize_inch    0.000000\n",
       "Sound_Output       0.000000\n",
       "Rating             8.333333\n",
       "Reviews            8.333333\n",
       "Price              0.000000\n",
       "Supported_apps     0.000000\n",
       "Resolution         0.000000\n",
       "dtype: float64"
      ]
     },
     "execution_count": 9,
     "metadata": {},
     "output_type": "execute_result"
    }
   ],
   "source": [
    "((df.isnull().sum())/len(df))*100"
   ]
  },
  {
   "cell_type": "markdown",
   "metadata": {},
   "source": [
    "### Handling null values in ScreenSize_cm column:"
   ]
  },
  {
   "cell_type": "code",
   "execution_count": 10,
   "metadata": {},
   "outputs": [
    {
     "data": {
      "text/plain": [
       "80.0"
      ]
     },
     "execution_count": 10,
     "metadata": {},
     "output_type": "execute_result"
    }
   ],
   "source": [
    "df['ScreenSize_cm'].value_counts().index[0]"
   ]
  },
  {
   "cell_type": "code",
   "execution_count": 11,
   "metadata": {},
   "outputs": [],
   "source": [
    "df['ScreenSize_cm'].fillna(df['ScreenSize_cm'].value_counts().index[0],inplace=True)"
   ]
  },
  {
   "cell_type": "markdown",
   "metadata": {},
   "source": [
    "#### OBSERVATIONS: \n",
    "#### As we, got some null values in screensize_cm column so we replaced the null values in it with most frequently occured value (i.e.,80)."
   ]
  },
  {
   "cell_type": "code",
   "execution_count": 12,
   "metadata": {},
   "outputs": [
    {
     "data": {
      "text/html": [
       "<div>\n",
       "<style scoped>\n",
       "    .dataframe tbody tr th:only-of-type {\n",
       "        vertical-align: middle;\n",
       "    }\n",
       "\n",
       "    .dataframe tbody tr th {\n",
       "        vertical-align: top;\n",
       "    }\n",
       "\n",
       "    .dataframe thead th {\n",
       "        text-align: right;\n",
       "    }\n",
       "</style>\n",
       "<table border=\"1\" class=\"dataframe\">\n",
       "  <thead>\n",
       "    <tr style=\"text-align: right;\">\n",
       "      <th></th>\n",
       "      <th>Star_Rating</th>\n",
       "      <th>Warranty</th>\n",
       "      <th>ScreenSize_cm</th>\n",
       "      <th>ScreenSize_inch</th>\n",
       "      <th>Sound_Output</th>\n",
       "      <th>Rating</th>\n",
       "      <th>Reviews</th>\n",
       "      <th>Price</th>\n",
       "    </tr>\n",
       "  </thead>\n",
       "  <tbody>\n",
       "    <tr>\n",
       "      <th>count</th>\n",
       "      <td>450.000000</td>\n",
       "      <td>480.0</td>\n",
       "      <td>480.000000</td>\n",
       "      <td>480.000000</td>\n",
       "      <td>480.000000</td>\n",
       "      <td>440.000000</td>\n",
       "      <td>440.000000</td>\n",
       "      <td>480.000000</td>\n",
       "    </tr>\n",
       "    <tr>\n",
       "      <th>mean</th>\n",
       "      <td>4.377333</td>\n",
       "      <td>1.0</td>\n",
       "      <td>102.556250</td>\n",
       "      <td>41.633333</td>\n",
       "      <td>21.358333</td>\n",
       "      <td>77629.227273</td>\n",
       "      <td>8467.000000</td>\n",
       "      <td>30406.208333</td>\n",
       "    </tr>\n",
       "    <tr>\n",
       "      <th>std</th>\n",
       "      <td>0.081588</td>\n",
       "      <td>0.0</td>\n",
       "      <td>25.059948</td>\n",
       "      <td>9.871985</td>\n",
       "      <td>5.698472</td>\n",
       "      <td>165926.024239</td>\n",
       "      <td>17296.086126</td>\n",
       "      <td>22950.155298</td>\n",
       "    </tr>\n",
       "    <tr>\n",
       "      <th>min</th>\n",
       "      <td>4.200000</td>\n",
       "      <td>1.0</td>\n",
       "      <td>80.000000</td>\n",
       "      <td>32.000000</td>\n",
       "      <td>2.000000</td>\n",
       "      <td>24.000000</td>\n",
       "      <td>2.000000</td>\n",
       "      <td>13499.000000</td>\n",
       "    </tr>\n",
       "    <tr>\n",
       "      <th>25%</th>\n",
       "      <td>4.300000</td>\n",
       "      <td>1.0</td>\n",
       "      <td>80.000000</td>\n",
       "      <td>32.000000</td>\n",
       "      <td>20.000000</td>\n",
       "      <td>3209.000000</td>\n",
       "      <td>461.000000</td>\n",
       "      <td>16874.000000</td>\n",
       "    </tr>\n",
       "    <tr>\n",
       "      <th>50%</th>\n",
       "      <td>4.400000</td>\n",
       "      <td>1.0</td>\n",
       "      <td>104.000000</td>\n",
       "      <td>43.000000</td>\n",
       "      <td>20.000000</td>\n",
       "      <td>16878.000000</td>\n",
       "      <td>1792.500000</td>\n",
       "      <td>24499.000000</td>\n",
       "    </tr>\n",
       "    <tr>\n",
       "      <th>75%</th>\n",
       "      <td>4.400000</td>\n",
       "      <td>1.0</td>\n",
       "      <td>125.000000</td>\n",
       "      <td>50.000000</td>\n",
       "      <td>24.000000</td>\n",
       "      <td>70841.000000</td>\n",
       "      <td>7591.000000</td>\n",
       "      <td>34999.000000</td>\n",
       "    </tr>\n",
       "    <tr>\n",
       "      <th>max</th>\n",
       "      <td>4.600000</td>\n",
       "      <td>1.0</td>\n",
       "      <td>163.000000</td>\n",
       "      <td>65.000000</td>\n",
       "      <td>40.000000</td>\n",
       "      <td>590772.000000</td>\n",
       "      <td>61608.000000</td>\n",
       "      <td>124999.000000</td>\n",
       "    </tr>\n",
       "  </tbody>\n",
       "</table>\n",
       "</div>"
      ],
      "text/plain": [
       "       Star_Rating  Warranty  ScreenSize_cm  ScreenSize_inch  Sound_Output  \\\n",
       "count   450.000000     480.0     480.000000       480.000000    480.000000   \n",
       "mean      4.377333       1.0     102.556250        41.633333     21.358333   \n",
       "std       0.081588       0.0      25.059948         9.871985      5.698472   \n",
       "min       4.200000       1.0      80.000000        32.000000      2.000000   \n",
       "25%       4.300000       1.0      80.000000        32.000000     20.000000   \n",
       "50%       4.400000       1.0     104.000000        43.000000     20.000000   \n",
       "75%       4.400000       1.0     125.000000        50.000000     24.000000   \n",
       "max       4.600000       1.0     163.000000        65.000000     40.000000   \n",
       "\n",
       "              Rating       Reviews          Price  \n",
       "count     440.000000    440.000000     480.000000  \n",
       "mean    77629.227273   8467.000000   30406.208333  \n",
       "std    165926.024239  17296.086126   22950.155298  \n",
       "min        24.000000      2.000000   13499.000000  \n",
       "25%      3209.000000    461.000000   16874.000000  \n",
       "50%     16878.000000   1792.500000   24499.000000  \n",
       "75%     70841.000000   7591.000000   34999.000000  \n",
       "max    590772.000000  61608.000000  124999.000000  "
      ]
     },
     "execution_count": 12,
     "metadata": {},
     "output_type": "execute_result"
    }
   ],
   "source": [
    "df.describe()"
   ]
  },
  {
   "cell_type": "markdown",
   "metadata": {},
   "source": [
    "### Handling null values in star_ratings, ratings and reviews columns:"
   ]
  },
  {
   "cell_type": "markdown",
   "metadata": {},
   "source": [
    "### Star_ratings:"
   ]
  },
  {
   "cell_type": "code",
   "execution_count": 13,
   "metadata": {},
   "outputs": [],
   "source": [
    "df['Star_Rating']=df['Star_Rating'].fillna(0)"
   ]
  },
  {
   "cell_type": "code",
   "execution_count": null,
   "metadata": {},
   "outputs": [],
   "source": []
  },
  {
   "cell_type": "markdown",
   "metadata": {},
   "source": [
    "### Ratings:"
   ]
  },
  {
   "cell_type": "code",
   "execution_count": 14,
   "metadata": {},
   "outputs": [],
   "source": [
    "df['Rating']=df['Rating'].fillna(0)"
   ]
  },
  {
   "cell_type": "code",
   "execution_count": null,
   "metadata": {},
   "outputs": [],
   "source": []
  },
  {
   "cell_type": "markdown",
   "metadata": {},
   "source": [
    "### Reviews:"
   ]
  },
  {
   "cell_type": "code",
   "execution_count": 15,
   "metadata": {},
   "outputs": [],
   "source": [
    "df['Reviews']=df['Reviews'].fillna(0)"
   ]
  },
  {
   "cell_type": "markdown",
   "metadata": {},
   "source": [
    "#### OBSERVATIONs: \n",
    "#### We got some null values in Star_ratings, ratings and reviews columns.We can say that they not been rated and reviewed.\n",
    "#### So we filled the null values in them with zero rather than deleting them."
   ]
  },
  {
   "cell_type": "code",
   "execution_count": 16,
   "metadata": {},
   "outputs": [
    {
     "name": "stdout",
     "output_type": "stream",
     "text": [
      "<class 'pandas.core.frame.DataFrame'>\n",
      "RangeIndex: 480 entries, 0 to 479\n",
      "Data columns (total 12 columns):\n",
      " #   Column           Non-Null Count  Dtype  \n",
      "---  ------           --------------  -----  \n",
      " 0   TV_Brand         480 non-null    object \n",
      " 1   TV_Name          480 non-null    object \n",
      " 2   Star_Rating      480 non-null    float64\n",
      " 3   Warranty         480 non-null    int64  \n",
      " 4   ScreenSize_cm    480 non-null    float64\n",
      " 5   ScreenSize_inch  480 non-null    int64  \n",
      " 6   Sound_Output     480 non-null    int64  \n",
      " 7   Rating           480 non-null    float64\n",
      " 8   Reviews          480 non-null    float64\n",
      " 9   Price            480 non-null    int64  \n",
      " 10  Supported_apps   480 non-null    object \n",
      " 11  Resolution       480 non-null    object \n",
      "dtypes: float64(4), int64(4), object(4)\n",
      "memory usage: 45.1+ KB\n"
     ]
    }
   ],
   "source": [
    "df.info()"
   ]
  },
  {
   "cell_type": "code",
   "execution_count": 20,
   "metadata": {},
   "outputs": [],
   "source": [
    "df['Rating']=df['Rating'].astype(int)"
   ]
  },
  {
   "cell_type": "code",
   "execution_count": 21,
   "metadata": {},
   "outputs": [],
   "source": [
    "df['Reviews']=df['Reviews'].astype(int)"
   ]
  },
  {
   "cell_type": "code",
   "execution_count": 22,
   "metadata": {},
   "outputs": [
    {
     "name": "stdout",
     "output_type": "stream",
     "text": [
      "<class 'pandas.core.frame.DataFrame'>\n",
      "RangeIndex: 480 entries, 0 to 479\n",
      "Data columns (total 12 columns):\n",
      " #   Column           Non-Null Count  Dtype  \n",
      "---  ------           --------------  -----  \n",
      " 0   TV_Brand         480 non-null    object \n",
      " 1   TV_Name          480 non-null    object \n",
      " 2   Star_Rating      480 non-null    float64\n",
      " 3   Warranty         480 non-null    int64  \n",
      " 4   ScreenSize_cm    480 non-null    float64\n",
      " 5   ScreenSize_inch  480 non-null    int64  \n",
      " 6   Sound_Output     480 non-null    int64  \n",
      " 7   Rating           480 non-null    int32  \n",
      " 8   Reviews          480 non-null    int32  \n",
      " 9   Price            480 non-null    int64  \n",
      " 10  Supported_apps   480 non-null    object \n",
      " 11  Resolution       480 non-null    object \n",
      "dtypes: float64(2), int32(2), int64(4), object(4)\n",
      "memory usage: 41.4+ KB\n"
     ]
    }
   ],
   "source": [
    "df.info()"
   ]
  },
  {
   "cell_type": "markdown",
   "metadata": {},
   "source": [
    "#### OBSERVATIONS: After cleaning the data we got above cleaned data."
   ]
  },
  {
   "cell_type": "code",
   "execution_count": 23,
   "metadata": {},
   "outputs": [],
   "source": [
    "df.to_csv('tv_clean.csv',index=False)   # saving cleaned data in .csv file"
   ]
  },
  {
   "cell_type": "code",
   "execution_count": null,
   "metadata": {},
   "outputs": [],
   "source": []
  }
 ],
 "metadata": {
  "kernelspec": {
   "display_name": "Python 3",
   "language": "python",
   "name": "python3"
  },
  "language_info": {
   "codemirror_mode": {
    "name": "ipython",
    "version": 3
   },
   "file_extension": ".py",
   "mimetype": "text/x-python",
   "name": "python",
   "nbconvert_exporter": "python",
   "pygments_lexer": "ipython3",
   "version": "3.8.5"
  }
 },
 "nbformat": 4,
 "nbformat_minor": 4
}
